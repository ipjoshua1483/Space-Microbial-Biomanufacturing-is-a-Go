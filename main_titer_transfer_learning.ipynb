{
  "cells": [
    {
      "cell_type": "markdown",
      "metadata": {},
      "source": [
        "# Imports"
      ]
    },
    {
      "cell_type": "code",
      "execution_count": 104,
      "metadata": {},
      "outputs": [],
      "source": [
        "from pathlib import Path\n",
        "from datetime import datetime\n",
        "from typing import Callable, Optional, Sequence, Tuple\n",
        "import torch\n",
        "from torch import Tensor\n",
        "import torch.nn.functional as F\n",
        "from torch.utils.data import DataLoader, TensorDataset\n",
        "import numpy as np\n",
        "import pandas as pd\n",
        "from sklearn.preprocessing import LabelEncoder\n",
        "from sklearn.model_selection import train_test_split\n",
        "import uncertainty_toolbox as uct\n",
        "import matplotlib.pyplot as plt\n",
        "import pytorch_lightning as pl\n",
        "from pytorch_lightning import LightningModule"
      ]
    },
    {
      "cell_type": "markdown",
      "metadata": {},
      "source": [
        "# Uploads"
      ]
    },
    {
      "cell_type": "code",
      "execution_count": 105,
      "metadata": {},
      "outputs": [],
      "source": [
        "prefix = \"./data/earth\"\n",
        "prefix_1A = \"./data/flight/titer\"\n",
        "uploaded = {p.name: p for p in Path(prefix).glob(\"*.xlsx\") if not p.name.startswith(\"~$\")}\n",
        "uploaded_1A = {p.name: p for p in Path(prefix_1A).glob(\"*.xlsx\") if not p.name.startswith(\"~$\")}"
      ]
    },
    {
      "cell_type": "markdown",
      "metadata": {},
      "source": [
        "# Settings"
      ]
    },
    {
      "cell_type": "code",
      "execution_count": 106,
      "metadata": {
        "id": "DmMDUxWH5GP0"
      },
      "outputs": [],
      "source": [
        "device = (\n",
        "    \"cuda\"\n",
        "    if torch.cuda.is_available()\n",
        "    else \"mps\"\n",
        "    if torch.backends.mps.is_available()\n",
        "    else \"cpu\"\n",
        ")"
      ]
    },
    {
      "cell_type": "code",
      "execution_count": 107,
      "metadata": {},
      "outputs": [],
      "source": [
        "plt.rcParams.update({\n",
        "    'axes.labelsize': 14,\n",
        "    'axes.labelweight': 'bold',\n",
        "    'xtick.labelsize': 12,\n",
        "    'ytick.labelsize': 12,\n",
        "    'xtick.color': 'k',\n",
        "    'ytick.color': 'k',\n",
        "    'xtick.major.width': 1.5,\n",
        "    'ytick.major.width': 1.5,\n",
        "})\n",
        "plt.rcParams['figure.figsize'] = (7, 5)\n",
        "plt.rcParams['figure.dpi'] = 120"
      ]
    },
    {
      "cell_type": "markdown",
      "metadata": {},
      "source": [
        "# Preprocessing"
      ]
    },
    {
      "cell_type": "code",
      "execution_count": 108,
      "metadata": {
        "id": "hAvbwcUO2Cdc"
      },
      "outputs": [],
      "source": [
        "organism_list = []\n",
        "substance_list = []\n",
        "gravity_list = []\n",
        "obj_list = []\n",
        "\n",
        "class Preprocess:\n",
        "  def __init__(self, file_name):\n",
        "    self.file_name = file_name\n",
        "    self.organism, self.substance, self.gravity = self.file_name.split(\".\")[0].split()[0].split(\"_\")\n",
        "    self.update_list(organism_list, self.organism)\n",
        "    self.update_list(substance_list, self.substance)\n",
        "    self.update_list(gravity_list, self.gravity)\n",
        "\n",
        "  def update_list(self, item_list, item):\n",
        "    item_list.append(item)"
      ]
    },
    {
      "cell_type": "code",
      "execution_count": 109,
      "metadata": {
        "id": "wKnix06N4WMP"
      },
      "outputs": [],
      "source": [
        "for file_name in uploaded.keys():\n",
        "  obj = Preprocess(file_name)\n",
        "  obj_list.append(obj)"
      ]
    },
    {
      "cell_type": "code",
      "execution_count": 110,
      "metadata": {
        "id": "MGrGaEqs4YO8"
      },
      "outputs": [],
      "source": [
        "organism_encode = LabelEncoder()\n",
        "substance_encode = LabelEncoder()\n",
        "gravity_encode = LabelEncoder()\n",
        "\n",
        "organism_label = organism_encode.fit_transform(organism_list)\n",
        "substance_label = substance_encode.fit_transform(substance_list)\n",
        "gravity_label = gravity_encode.fit_transform(gravity_list)"
      ]
    },
    {
      "cell_type": "code",
      "execution_count": 111,
      "metadata": {
        "id": "NSwwv5w64aaI"
      },
      "outputs": [],
      "source": [
        "data_list = []\n",
        "\n",
        "class Data:\n",
        "  def __init__(self,file_name, organism, substance, gravity, flight = False):\n",
        "    self.file_name = file_name\n",
        "    self.organism = organism\n",
        "    self.substance = substance\n",
        "    self.gravity = gravity\n",
        "    self.flight = flight\n",
        "\n",
        "    self.titer_time, self.titer_val = self.assign_data()\n",
        "    self.titer_input_np = []\n",
        "    self.titer_val_np = []\n",
        "\n",
        "    if len(self.titer_time) != 0:\n",
        "      self.titer_input_np = self.create_inputs(self.titer_time, self.titer_val)\n",
        "    if len(self.titer_val) != 0:\n",
        "      self.titer_val_np = self.titer_val.reshape(-1, 1)\n",
        "\n",
        "  def assign_data(self):\n",
        "    titer_time = []\n",
        "    titer_val = []\n",
        "\n",
        "    if substance_encode.inverse_transform([self.substance])[0] != \"Wild\":\n",
        "      if self.flight:\n",
        "        titer_df = pd.read_excel(f\"{prefix_1A}/{self.file_name}\", sheet_name = 1).iloc[1:]\n",
        "      else:\n",
        "        titer_df = pd.read_excel(f\"{prefix}/{self.file_name}\", sheet_name = 1).iloc[1:]\n",
        "      titer_time = titer_df.iloc[:,:1].to_numpy()\n",
        "      titer_df_transpose = titer_df.iloc[:,1:].T\n",
        "      titer_df_transpose.fillna(titer_df_transpose.mean(), inplace=True)\n",
        "      titer_val = titer_df_transpose.T.to_numpy()\n",
        "\n",
        "    return titer_time, titer_val\n",
        "\n",
        "  def create_inputs(self, input, output):\n",
        "    \"\"\"\n",
        "    Returns inputs in order of organism, substance, gravity, and time\n",
        "    \"\"\"\n",
        "    input_length = len(input)\n",
        "    output_length = len(output[0])\n",
        "\n",
        "    input_stacked = np.tile(input, output_length).reshape(-1, 1)\n",
        "\n",
        "    categorical_inputs = [self.organism, self.substance, self.gravity]\n",
        "    categorical_inputs_stacked = np.tile(categorical_inputs, input_length * output_length).reshape(-1, len(categorical_inputs))\n",
        "    return np.hstack((categorical_inputs_stacked, input_stacked)).astype(float)"
      ]
    },
    {
      "cell_type": "code",
      "execution_count": null,
      "metadata": {
        "colab": {
          "base_uri": "https://localhost:8080/"
        },
        "id": "mGSwAWWI4noO",
        "outputId": "695b5639-1036-4f89-dbd0-e3cf722f28ed"
      },
      "outputs": [],
      "source": [
        "for i, obj in enumerate(obj_list):\n",
        "  data_obj = Data(obj.file_name, organism_label[i], substance_label[i], gravity_label[i])\n",
        "  data_list.append(data_obj)"
      ]
    },
    {
      "cell_type": "code",
      "execution_count": 113,
      "metadata": {
        "id": "KE8uJ1PJ4pWG"
      },
      "outputs": [],
      "source": [
        "titer_input = data_list[0].titer_input_np\n",
        "titer_output = data_list[0].titer_val_np\n",
        "\n",
        "for i in range(1, len(data_list)):\n",
        "  if len(data_list[i].titer_input_np) > 0:\n",
        "    titer_input = np.vstack((titer_input, data_list[i].titer_input_np))\n",
        "    titer_output = np.vstack((titer_output, data_list[i].titer_val_np))"
      ]
    },
    {
      "cell_type": "code",
      "execution_count": 114,
      "metadata": {
        "id": "pUiq8sBA4rUk"
      },
      "outputs": [],
      "source": [
        "titer_time_input_mean = np.mean(titer_input[:, 3])\n",
        "titer_time_input_std_dev = np.std(titer_input[:, 3])\n",
        "titer_input[:,3] = (titer_input[:, 3] - titer_time_input_mean)/titer_time_input_std_dev\n",
        "titer_output = np.log(titer_output + 0.1)"
      ]
    },
    {
      "cell_type": "code",
      "execution_count": 115,
      "metadata": {
        "id": "N79Qm-zz4s36"
      },
      "outputs": [],
      "source": [
        "titer_input_train, titer_input_test_val, titer_output_train, titer_output_test_val = train_test_split(titer_input, titer_output, test_size = 0.2, random_state = 42)\n",
        "titer_input_val, titer_input_test, titer_output_val, titer_output_test = train_test_split(titer_input_test_val, titer_output_test_val, test_size = 0.5, random_state = 42)"
      ]
    },
    {
      "cell_type": "code",
      "execution_count": 116,
      "metadata": {
        "id": "d8_BFbey4ul7"
      },
      "outputs": [],
      "source": [
        "titer_input_train_tensor = torch.tensor(titer_input_train, device=device)\n",
        "titer_input_test_tensor = torch.tensor(titer_input_test,device=device)\n",
        "titer_output_train_tensor = torch.tensor(titer_output_train,device=device)\n",
        "titer_output_test_tensor = torch.tensor(titer_output_test,device=device)\n",
        "titer_input_val_tensor = torch.tensor(titer_input_val, device=device)\n",
        "titer_output_val_tensor = torch.tensor(titer_output_val, device=device)"
      ]
    },
    {
      "cell_type": "markdown",
      "metadata": {},
      "source": [
        "# Model"
      ]
    },
    {
      "cell_type": "code",
      "execution_count": 117,
      "metadata": {},
      "outputs": [],
      "source": [
        "class MLP(torch.nn.Module):\n",
        "    \"\"\"MLP Network.\"\"\"\n",
        "\n",
        "    def __init__(\n",
        "        self,\n",
        "        input_dim: int,\n",
        "        output_dim: int,\n",
        "        hidden_sizes: Sequence[int],\n",
        "        hidden_activation: Callable[[torch.tensor], torch.tensor] = F.relu,\n",
        "        out_activation: Optional[Callable[[torch.tensor], torch.tensor]] = None,\n",
        "    ):\n",
        "        \"\"\"Constructor.\n",
        "\n",
        "        Args:\n",
        "            input_dim: Dimension of input data.\n",
        "            output_dim: Dimesnion of data outputted.\n",
        "            hidden_sizes: List of sizes for the hidden layers.\n",
        "            hidden_activation: Hidden activation function.\n",
        "            out_activation: The activation function to apply on output.\n",
        "        \"\"\"\n",
        "        super().__init__()\n",
        "        if len(hidden_sizes) == 0:\n",
        "            self._add_linear_layer(input_dim, output_dim, 0)\n",
        "            self.n_layers = 1\n",
        "        else:\n",
        "            self._add_linear_layer(input_dim, hidden_sizes[0], 0)\n",
        "            for hidx in range(len(hidden_sizes) - 1):\n",
        "                self._add_linear_layer(\n",
        "                    hidden_sizes[hidx], hidden_sizes[hidx + 1], hidx + 1\n",
        "                )\n",
        "            self._add_linear_layer(hidden_sizes[-1], output_dim, len(hidden_sizes))\n",
        "            self.n_layers = len(hidden_sizes) + 1\n",
        "        self.hidden_activation = hidden_activation\n",
        "        self.out_activation = out_activation\n",
        "\n",
        "    def forward(\n",
        "        self,\n",
        "        net_in: torch.tensor,\n",
        "    ) -> torch.tensor:\n",
        "        \"\"\"Forward pass through network.\n",
        "\n",
        "        Args:\n",
        "            net_in: The input to the network.\n",
        "\n",
        "        Returns:\n",
        "            The output of the network.\n",
        "        \"\"\"\n",
        "        curr = net_in\n",
        "        for layer_num in range(self.n_layers - 1):\n",
        "            curr = getattr(self, \"linear_%d\" % layer_num)(curr)\n",
        "            curr = self.hidden_activation(curr)\n",
        "        curr = getattr(self, \"linear_%d\" % (self.n_layers - 1))(curr)\n",
        "        if self.out_activation is not None:\n",
        "            return self.out_activation(curr)\n",
        "        return curr\n",
        "\n",
        "    def _add_linear_layer(\n",
        "        self,\n",
        "        lin_in: int,\n",
        "        lin_out: int,\n",
        "        layer_num: int,\n",
        "    ) -> None:\n",
        "        \"\"\"Add a linear layer to the network.\n",
        "\n",
        "        Args:\n",
        "            lin_in: Input dimension to the layer.\n",
        "            lin_out: Output dimension of the layer.\n",
        "            layer_num: The number of the layer being added.\n",
        "        \"\"\"\n",
        "        layer = torch.nn.Linear(lin_in, lin_out)\n",
        "        self.add_module(\"linear_%d\" % layer_num, layer)"
      ]
    },
    {
      "cell_type": "code",
      "execution_count": 118,
      "metadata": {},
      "outputs": [],
      "source": [
        "class PNN(LightningModule):\n",
        "    \"\"\"Probabilistic neural network (PNN) outputting Gaussian distribution.\n",
        "\n",
        "    This model is implemented as a two headed neural network. The two heads\n",
        "    output the mean and logvariance of a multi-variate normal.\n",
        "    \"\"\"\n",
        "\n",
        "    def __init__(\n",
        "        self,\n",
        "        input_dim: int,\n",
        "        output_dim: int,\n",
        "        encoder_hidden_sizes: Sequence[int],\n",
        "        encoder_output_dim: int,\n",
        "        mean_hidden_sizes: Sequence[int],\n",
        "        logvar_hidden_sizes: Sequence[int],\n",
        "        hidden_activation: Callable[[torch.tensor], torch.tensor] = F.relu,\n",
        "        learning_rate: float = 1e-3,\n",
        "    ):\n",
        "        \"\"\"Constructor.\n",
        "\n",
        "        Args:\n",
        "            input_dim: Dimension of input data.\n",
        "            output_dim: Dimesnion of data outputted.\n",
        "            hidden_activation: Hidden activation function.\n",
        "            encoder_hidden_sizes: List of the hidden sizes for the encoder.\n",
        "            encoder_output_dim: Dimension of the data outputted by the encoder.\n",
        "            mean_hidden_sizes: List of hidden sizes for mean head.\n",
        "            logvar_hidden_sizes: List of hidden sizes for logvar head.\n",
        "        \"\"\"\n",
        "        super().__init__()\n",
        "        self._learning_rate = learning_rate\n",
        "        self.encoder = MLP(\n",
        "            input_dim=input_dim,\n",
        "            output_dim=encoder_output_dim,\n",
        "            hidden_sizes=encoder_hidden_sizes,\n",
        "            hidden_activation=hidden_activation,\n",
        "        )\n",
        "        self.mean_head = MLP(\n",
        "            input_dim=encoder_output_dim,\n",
        "            output_dim=output_dim,\n",
        "            hidden_sizes=mean_hidden_sizes,\n",
        "            hidden_activation=hidden_activation,\n",
        "        )\n",
        "        self.logvar_head = MLP(\n",
        "            input_dim=encoder_output_dim,\n",
        "            output_dim=output_dim,\n",
        "            hidden_sizes=logvar_hidden_sizes,\n",
        "            hidden_activation=hidden_activation,\n",
        "        )\n",
        "\n",
        "    def get_mean_and_standard_deviation(\n",
        "        self,\n",
        "        x_data: np.ndarray,\n",
        "        device: str = \"cpu\",\n",
        "    ) -> Tuple[np.ndarray, np.ndarray]:\n",
        "        \"\"\"Get the mean and standard deviation prediction.\n",
        "\n",
        "        Args:\n",
        "            x_data: The data in numpy ndarray form.\n",
        "            device: The device to use. Should be the same as the device\n",
        "                the model is currently on.\n",
        "\n",
        "        Returns:\n",
        "            Mean and standard deviation as ndarrays\n",
        "        \"\"\"\n",
        "        with torch.no_grad():\n",
        "            mean, logvar = self.forward(torch.tensor(x_data, device=device))\n",
        "        mean = mean.numpy()\n",
        "        std = (logvar / 2).exp().numpy()\n",
        "        return mean, std\n",
        "\n",
        "    def forward(\n",
        "        self,\n",
        "        x_data: torch.tensor,\n",
        "    ) -> Tuple[torch.tensor, torch.tensor]:\n",
        "        \"\"\"Get the mean and standard deviation prediction.\n",
        "\n",
        "        Args:\n",
        "            x_data: The data in tensor form.\n",
        "\n",
        "        Returns:\n",
        "            Mean and log variance as tensors.\n",
        "        \"\"\"\n",
        "        latent = self.encoder(x_data)\n",
        "        return self.mean_head(latent), self.logvar_head(latent)\n",
        "\n",
        "    def training_step(\n",
        "        self,\n",
        "        batch: Tuple[torch.tensor, torch.tensor],\n",
        "        batch_idx: int,\n",
        "    ) -> torch.tensor:\n",
        "        \"\"\"Do a training step.\n",
        "\n",
        "        Args:\n",
        "            batch: The x and y data to train on.\n",
        "            batch_idx: Index of he batch.\n",
        "\n",
        "        Returns:\n",
        "            The loss.\n",
        "        \"\"\"\n",
        "        x_data, y_data = batch\n",
        "        mean, logvar = self.forward(x_data)\n",
        "        loss = torch.mean(self.compute_nll(mean, logvar, y_data))\n",
        "        self.log(\"train_loss\", loss)\n",
        "        return loss\n",
        "\n",
        "    def validation_step(\n",
        "        self,\n",
        "        batch: Tuple[torch.tensor, torch.tensor],\n",
        "        batch_idx: int,\n",
        "    ) -> None:\n",
        "        \"\"\"Do a validation step.\n",
        "\n",
        "        Args:\n",
        "            batch: The x and y data to train on.\n",
        "            batch_idx: Index of he batch.\n",
        "        \"\"\"\n",
        "        x_data, y_data = batch\n",
        "        mean, logvar = self.forward(x_data)\n",
        "        loss = torch.mean(self.compute_nll(mean, logvar, y_data))\n",
        "        self.log(\"validation_loss\", loss)\n",
        "\n",
        "    def test_step(\n",
        "        self,\n",
        "        batch: Tuple[torch.tensor, torch.tensor],\n",
        "        batch_idx: int,\n",
        "    ) -> None:\n",
        "        \"\"\"Do a validation step.\n",
        "\n",
        "        Args:\n",
        "            batch: The x and y data to train on.\n",
        "            batch_idx: Index of he batch.\n",
        "        \"\"\"\n",
        "        x_data, y_data = batch\n",
        "        mean, logvar = self.forward(x_data)\n",
        "        loss = torch.mean(self.compute_nll(mean, logvar, y_data))\n",
        "        self.log(\"test_loss\", loss)\n",
        "\n",
        "    def configure_optimizers(self) -> torch.optim.Optimizer:\n",
        "        \"\"\"Configure the optimizer.\n",
        "\n",
        "        Returns:\n",
        "            Optimizer\n",
        "        \"\"\"\n",
        "        return torch.optim.Adam(self.parameters(), lr=self._learning_rate)\n",
        "\n",
        "    def compute_nll(\n",
        "        self,\n",
        "        mean: torch.tensor,\n",
        "        logvar: torch.tensor,\n",
        "        labels: torch.tensor,\n",
        "    ) -> torch.tensor:\n",
        "        \"\"\"Compute the loss as negative log likelihood.\n",
        "\n",
        "        Args:\n",
        "            mean: The mean prediction for labels.\n",
        "            logvar: The logvariance prediction for labels.\n",
        "            labels: The observed labels of the data.\n",
        "\n",
        "        Returns:\n",
        "            The negative log likelihood of each point.\n",
        "        \"\"\"\n",
        "        sqdiffs = (mean - labels) ** 2\n",
        "        return torch.exp(-logvar) * sqdiffs + logvar"
      ]
    },
    {
      "cell_type": "code",
      "execution_count": 119,
      "metadata": {
        "id": "HnQNfTch5WiZ"
      },
      "outputs": [],
      "source": [
        "\"\"\"Make the PNN model.\"\"\"\n",
        "pnn = PNN(\n",
        "    input_dim=4,\n",
        "    output_dim=1,\n",
        "    encoder_hidden_sizes=[50, 50, 50, 50, 50],\n",
        "    encoder_output_dim=50,\n",
        "    mean_hidden_sizes=[],\n",
        "    logvar_hidden_sizes=[],\n",
        "    hidden_activation = F.relu,\n",
        "    learning_rate = 1e-3,\n",
        ")"
      ]
    },
    {
      "cell_type": "code",
      "execution_count": 120,
      "metadata": {
        "colab": {
          "base_uri": "https://localhost:8080/"
        },
        "id": "s2SrWXMU5biZ",
        "outputId": "089df99b-6427-47c5-968e-d02ca1db348f"
      },
      "outputs": [
        {
          "data": {
            "text/plain": [
              "<All keys matched successfully>"
            ]
          },
          "execution_count": 120,
          "metadata": {},
          "output_type": "execute_result"
        }
      ],
      "source": [
        "model_path = './models/titer'\n",
        "time_path = \".pth\"\n",
        "pnn.load_state_dict(torch.load(model_path + time_path))"
      ]
    },
    {
      "cell_type": "code",
      "execution_count": 121,
      "metadata": {
        "id": "Kqg2XU9S5ila"
      },
      "outputs": [],
      "source": [
        "for name, param in pnn.named_parameters():\n",
        "  if 'encoder' in name:\n",
        "    param.requires_grad = False"
      ]
    },
    {
      "cell_type": "markdown",
      "metadata": {},
      "source": [
        "# Flight"
      ]
    },
    {
      "cell_type": "code",
      "execution_count": 122,
      "metadata": {
        "id": "-xBh6ewh_Hnv"
      },
      "outputs": [],
      "source": [
        "organism_1A_list = []\n",
        "substance_1A_list = []\n",
        "gravity_1A_list = []\n",
        "obj_1A_list = []"
      ]
    },
    {
      "cell_type": "code",
      "execution_count": 123,
      "metadata": {
        "id": "0-mLZSUy_I8G"
      },
      "outputs": [],
      "source": [
        "class Preprocess_flight:\n",
        "  def __init__(self, file_name):\n",
        "    self.file_name = file_name\n",
        "    self.organism, self.substance, self.gravity, self.flight = self.file_name.split(\".\")[0].split()[0].split(\"_\")\n",
        "    self.update_list(organism_1A_list, self.organism)\n",
        "    self.update_list(substance_1A_list, self.substance)\n",
        "    self.update_list(gravity_1A_list, self.gravity)\n",
        "\n",
        "  def update_list(self, item_list, item):\n",
        "    #if item not in item_list:\n",
        "    item_list.append(item)"
      ]
    },
    {
      "cell_type": "code",
      "execution_count": 124,
      "metadata": {
        "colab": {
          "base_uri": "https://localhost:8080/"
        },
        "id": "YK4IdvB8_KOa",
        "outputId": "91e76fb8-62f5-4154-f6f5-47a12dcf5ad7"
      },
      "outputs": [],
      "source": [
        "for file_name in uploaded_1A.keys():\n",
        "  obj = Preprocess_flight(file_name)\n",
        "  obj_1A_list.append(obj)"
      ]
    },
    {
      "cell_type": "code",
      "execution_count": 125,
      "metadata": {
        "id": "RpbCqqcl_LUo"
      },
      "outputs": [],
      "source": [
        "def locate_label(var, var_list, var_encode_list):\n",
        "  index = var_list.index(var)\n",
        "  return var_encode_list[index]"
      ]
    },
    {
      "cell_type": "code",
      "execution_count": 126,
      "metadata": {
        "colab": {
          "base_uri": "https://localhost:8080/"
        },
        "id": "YSokEU1G_x8p",
        "outputId": "5892fecd-18ef-4cfb-f791-9fead1a3ea13"
      },
      "outputs": [
        {
          "name": "stderr",
          "output_type": "stream",
          "text": [
            "C:\\Users\\ipjos\\AppData\\Local\\Temp\\ipykernel_18280\\2907603904.py:31: FutureWarning: Downcasting object dtype arrays on .fillna, .ffill, .bfill is deprecated and will change in a future version. Call result.infer_objects(copy=False) instead. To opt-in to the future behavior, set `pd.set_option('future.no_silent_downcasting', True)`\n",
            "  titer_df_transpose.fillna(titer_df_transpose.mean(), inplace=True)\n",
            "C:\\Users\\ipjos\\AppData\\Local\\Temp\\ipykernel_18280\\1583529748.py:31: UserWarning: To copy construct from a tensor, it is recommended to use sourceTensor.clone().detach() or sourceTensor.clone().detach().requires_grad_(True), rather than torch.tensor(sourceTensor).\n",
            "  input_standardized_all_tensor = torch.tensor(input_standardized)\n"
          ]
        }
      ],
      "source": [
        "data_1A_list = []\n",
        "input_standardized_all_list = []\n",
        "input_standardized_all_tensor = None\n",
        "output_all_tensor = None\n",
        "\n",
        "for i, obj in enumerate(obj_1A_list):\n",
        "\n",
        "\n",
        "    organism_locate_label = locate_label(obj.organism, organism_list, organism_label)\n",
        "    substance_locate_label = locate_label(obj.substance, substance_list, substance_label)\n",
        "    gravity_locate_label = locate_label(obj.gravity, gravity_list, gravity_label)\n",
        "\n",
        "    #use the combination of labels to locate the correct obj_list item\n",
        "    data_obj = Data(obj.file_name, organism_locate_label, substance_locate_label, gravity_locate_label, flight = True)\n",
        "    if substance_encode.inverse_transform([data_obj.substance])[0] != \"Wild\":\n",
        "      data_1A_list.append(data_obj)\n",
        "\n",
        "      #combine into categorical inputs\n",
        "      categorical_inputs = [organism_locate_label, substance_locate_label, gravity_locate_label]\n",
        "      categorical_inputs_transformed = torch.tensor([categorical_inputs]).squeeze()\n",
        "\n",
        "      time_tensor = torch.tensor(data_obj.titer_input_np[:,3], dtype = torch.float32)\n",
        "      categorical_inputs_transformed_stacked = torch.Tensor.repeat(categorical_inputs_transformed, len(time_tensor)).reshape(-1, len(categorical_inputs))\n",
        "\n",
        "      input_unstandardized = torch.hstack((categorical_inputs_transformed_stacked, time_tensor.reshape(-1, 1)))\n",
        "      input_unstandardized[:,3] = (input_unstandardized[:,3] - titer_time_input_mean) / titer_time_input_std_dev\n",
        "\n",
        "      input_standardized = input_unstandardized\n",
        "      input_standardized_all_list.append(input_standardized)\n",
        "      if input_standardized_all_tensor is None:\n",
        "        input_standardized_all_tensor = torch.tensor(input_standardized)\n",
        "        output_all_tensor = torch.tensor(data_obj.titer_val_np)\n",
        "      else:\n",
        "        input_standardized_all_tensor = torch.vstack((input_standardized_all_tensor, input_standardized))\n",
        "        output_all_tensor = torch.vstack((output_all_tensor, torch.tensor(data_obj.titer_val_np)))\n",
        "output_all_tensor = torch.log(output_all_tensor + 0.1)"
      ]
    },
    {
      "cell_type": "code",
      "execution_count": 127,
      "metadata": {
        "id": "psQEB5cx5iEu"
      },
      "outputs": [],
      "source": [
        "model_path_2 = './models/titer_transfer_learning'\n",
        "if not model_path_2:\n",
        "  #80% train, 10% validation, 10% test\n",
        "  input_train, input_test_val, output_train, output_test_val = train_test_split(input_standardized_all_tensor, output_all_tensor , test_size = 0.2, random_state = 42)\n",
        "  input_val, input_test, output_val, output_test = train_test_split(input_test_val, output_test_val, test_size = 0.5, random_state = 42)\n",
        "\n",
        "  train_data = DataLoader(TensorDataset(torch.tensor(input_train, dtype = torch.float32), torch.tensor(output_train, dtype = torch.float32)))\n",
        "  test_data = DataLoader(TensorDataset(torch.tensor(input_test, dtype = torch.float32), torch.tensor(output_test, dtype = torch.float32)))\n",
        "  val_data = DataLoader(TensorDataset(torch.tensor(input_val, dtype = torch.float32), torch.tensor(output_val, dtype = torch.float32)))\n",
        "\n",
        "\n",
        "  \"\"\"Train the model with a pytorch-lightning trainer.\"\"\"\n",
        "  trainer = pl.Trainer(max_epochs=100, check_val_every_n_epoch=50)\n",
        "  trainer.fit(pnn, train_data, val_data)\n",
        "  test_results = trainer.test(pnn, test_data)\n",
        "  timestamp = datetime.now()\n",
        "  time_path = f\"_{timestamp.strftime('%m-%d_%H-%M-%S')}.pth\"\n",
        "  torch.save(pnn.state_dict(), model_path_2 + time_path)\n",
        "else:\n",
        "  #load the model\n",
        "  time_path = \".pth\"\n",
        "  pnn.load_state_dict(torch.load(model_path_2 + time_path))"
      ]
    },
    {
      "cell_type": "code",
      "execution_count": 129,
      "metadata": {
        "colab": {
          "base_uri": "https://localhost:8080/",
          "height": 644
        },
        "id": "5VmEEpLGBvju",
        "outputId": "6261691b-f1d3-490f-ee8d-5befff60bd28"
      },
      "outputs": [
        {
          "name": "stderr",
          "output_type": "stream",
          "text": [
            "C:\\Users\\ipjos\\AppData\\Local\\Temp\\ipykernel_18280\\787291360.py:67: UserWarning: To copy construct from a tensor, it is recommended to use sourceTensor.clone().detach() or sourceTensor.clone().detach().requires_grad_(True), rather than torch.tensor(sourceTensor).\n",
            "  mean, logvar = self.forward(torch.tensor(x_data, device=device))\n"
          ]
        },
        {
          "data": {
            "image/png": "[encoded data removed]",
            "text/plain": [
              "<Figure size 840x600 with 1 Axes>"
            ]
          },
          "metadata": {},
          "output_type": "display_data"
        }
      ],
      "source": [
        "for i, obj in enumerate(data_1A_list):\n",
        "\n",
        "  predicted_output_mean, predicted_output_std = pnn.get_mean_and_standard_deviation(input_standardized_all_list[i])\n",
        "\n",
        "  time_tensor = input_standardized_all_list[i][:, 3] * titer_time_input_std_dev + titer_time_input_mean\n",
        "\n",
        "  predicted_output_mean = predicted_output_mean.flatten()\n",
        "  predicted_output_std = predicted_output_std.flatten()\n",
        "\n",
        "  # plt.title(f\"{organism_encode.inverse_transform([data_1A_list[i].organism])[0]} {substance_encode.inverse_transform([data_1A_list[i].substance])[0]} {gravity_encode.inverse_transform([data_1A_list[i].gravity])[0]} Titer with 95% Confidence Interval\")\n",
        "  plt.title(\"Y. lipolytica Spaceflight Titer Prediction After Transfer Learning\")\n",
        "  plt.errorbar(time_tensor,\n",
        "               np.exp(predicted_output_mean) - 0.1,\n",
        "               np.exp(predicted_output_mean + 3 * predicted_output_std) - np.exp(predicted_output_mean),\n",
        "               marker = 'o',\n",
        "               color = 'red',\n",
        "               # label = f\"{gravity_encode.inverse_transform([data_1A_list[i].gravity])[0]} Prediction\",\n",
        "               label = \"Model Prediction\",\n",
        "               zorder = 1)\n",
        "\n",
        "  plt.scatter(time_tensor,\n",
        "              data_1A_list[i].titer_val_np,\n",
        "              label = \"Flight 1 data\",\n",
        "              zorder = 2)\n",
        "\n",
        "  plt.xlabel(\"Time [hours]\")\n",
        "  plt.ylabel(\"Normalized Titer [mg/L/OD]\")\n",
        "  plt.legend()\n",
        "  plt.show()\n"
      ]
    }
  ],
  "metadata": {
    "colab": {
      "provenance": []
    },
    "kernelspec": {
      "display_name": "darpa",
      "language": "python",
      "name": "python3"
    },
    "language_info": {
      "codemirror_mode": {
        "name": "ipython",
        "version": 3
      },
      "file_extension": ".py",
      "mimetype": "text/x-python",
      "name": "python",
      "nbconvert_exporter": "python",
      "pygments_lexer": "ipython3",
      "version": "3.11.13"
    }
  },
  "nbformat": 4,
  "nbformat_minor": 0
}
