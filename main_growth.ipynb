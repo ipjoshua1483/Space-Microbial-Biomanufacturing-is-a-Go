{
  "cells": [
    {
      "cell_type": "markdown",
      "metadata": {},
      "source": [
        "# Imports"
      ]
    },
    {
      "cell_type": "code",
      "execution_count": 65,
      "metadata": {},
      "outputs": [],
      "source": [
        "# import random\n",
        "# import io\n",
        "from pathlib import Path\n",
        "from datetime import datetime\n",
        "import torch\n",
        "from torch import Tensor\n",
        "import torch.nn.functional as F\n",
        "from torch.utils.data import DataLoader, TensorDataset\n",
        "import numpy as np\n",
        "import pandas as pd\n",
        "from sklearn.preprocessing import LabelEncoder\n",
        "from sklearn.model_selection import train_test_split\n",
        "import uncertainty_toolbox as uct\n",
        "import matplotlib.pyplot as plt\n",
        "import pytorch_lightning as pl\n",
        "from simple_uq.models.pnn import PNN"
      ]
    },
    {
      "cell_type": "markdown",
      "metadata": {},
      "source": [
        "# Uploads"
      ]
    },
    {
      "cell_type": "code",
      "execution_count": 66,
      "metadata": {
        "colab": {
          "base_uri": "https://localhost:8080/",
          "height": 1000
        },
        "id": "zE7oo0sliYYj",
        "outputId": "1aa222d0-fe84-4e18-e5eb-4391377ed698"
      },
      "outputs": [],
      "source": [
        "uploaded = {p.name: p for p in Path(\"./data/earth\").glob(\"*.xlsx\") if not p.name.startswith(\"~$\")}\n",
        "uploaded_1A = {p.name: p for p in Path(\"./data/flight\").glob(\"*.xlsx\") if not p.name.startswith(\"~$\")}"
      ]
    },
    {
      "cell_type": "markdown",
      "metadata": {},
      "source": [
        "# Settings"
      ]
    },
    {
      "cell_type": "code",
      "execution_count": 67,
      "metadata": {
        "id": "X20U_lj3ibK3"
      },
      "outputs": [],
      "source": [
        "device = (\n",
        "    \"cuda\"\n",
        "    if torch.cuda.is_available()\n",
        "    else \"mps\"\n",
        "    if torch.backends.mps.is_available()\n",
        "    else \"cpu\"\n",
        ")"
      ]
    },
    {
      "cell_type": "code",
      "execution_count": 68,
      "metadata": {},
      "outputs": [],
      "source": [
        "plt.rcParams.update({\n",
        "    'axes.labelsize': 14,\n",
        "    'axes.labelweight': 'bold',\n",
        "    'xtick.labelsize': 12,\n",
        "    'ytick.labelsize': 12,\n",
        "    'xtick.color': 'k',\n",
        "    'ytick.color': 'k',\n",
        "    'xtick.major.width': 1.5,\n",
        "    'ytick.major.width': 1.5,\n",
        "})\n",
        "plt.rcParams['figure.figsize'] = (7, 5)\n",
        "plt.rcParams['figure.dpi'] = 120"
      ]
    },
    {
      "cell_type": "markdown",
      "metadata": {},
      "source": [
        "# Preprocessing"
      ]
    },
    {
      "cell_type": "code",
      "execution_count": 69,
      "metadata": {
        "id": "hzkJirshidh2"
      },
      "outputs": [],
      "source": [
        "organism_list = []\n",
        "substance_list = []\n",
        "gravity_list = []\n",
        "obj_list = []\n",
        "\n",
        "class Preprocess:\n",
        "  def __init__(self, file_name):\n",
        "    self.file_name = file_name\n",
        "    self.organism, self.substance, self.gravity = self.file_name.split(\".\")[0].split()[0].split(\"_\")\n",
        "    self.update_list(organism_list, self.organism)\n",
        "    self.update_list(substance_list, self.substance)\n",
        "    self.update_list(gravity_list, self.gravity)\n",
        "\n",
        "  def update_list(self, item_list, item):\n",
        "    #if item not in item_list:\n",
        "    item_list.append(item)"
      ]
    },
    {
      "cell_type": "code",
      "execution_count": 70,
      "metadata": {
        "id": "pV3gKndxiez3"
      },
      "outputs": [],
      "source": [
        "for file_name in uploaded.keys():\n",
        "  obj = Preprocess(file_name)\n",
        "  obj_list.append(obj)"
      ]
    },
    {
      "cell_type": "code",
      "execution_count": 71,
      "metadata": {
        "id": "-5ONy8cLifzO"
      },
      "outputs": [],
      "source": [
        "organism_encode = LabelEncoder()\n",
        "substance_encode = LabelEncoder()\n",
        "gravity_encode = LabelEncoder()\n",
        "\n",
        "organism_label = organism_encode.fit_transform(organism_list)\n",
        "substance_label = substance_encode.fit_transform(substance_list)\n",
        "gravity_label = gravity_encode.fit_transform(gravity_list)"
      ]
    },
    {
      "cell_type": "code",
      "execution_count": 72,
      "metadata": {
        "id": "NBvl9LKPihic"
      },
      "outputs": [],
      "source": [
        "data_list = []\n",
        "prefix = \"./data/earth\"\n",
        "prefix_1A = \"./data/flight\"\n",
        "class Data:\n",
        "  def __init__(self,file_name, organism, substance, gravity, flight = False):\n",
        "    self.file_name = file_name\n",
        "    self.organism = organism\n",
        "    self.substance = substance\n",
        "    self.gravity = gravity\n",
        "    self.flight = flight\n",
        "    self.growth_time, self.growth_val = self.assign_data()\n",
        "    self.growth_input_np = self.create_inputs(self.growth_time, self.growth_val)\n",
        "    self.growth_val_np = self.growth_val.reshape(-1, 1)\n",
        "\n",
        "  def assign_data(self):\n",
        "    if self.flight:\n",
        "      growth_df = pd.read_excel(f\"{prefix_1A}/{self.file_name}\", sheet_name = 0).iloc[1:]\n",
        "    else:\n",
        "      growth_df = pd.read_excel(f\"{prefix}/{self.file_name}\", sheet_name = 0).iloc[1:]\n",
        "    growth_time = growth_df.iloc[:,:1].to_numpy()\n",
        "    growth_df_transpose = growth_df.iloc[:,1:].T\n",
        "    growth_df_transpose.fillna(growth_df_transpose.mean(), inplace = True)\n",
        "    growth_val = growth_df_transpose.T.to_numpy()\n",
        "\n",
        "    return growth_time, growth_val\n",
        "\n",
        "  def create_inputs(self, input, output):\n",
        "    \"\"\"\n",
        "    Returns inputs in order of organism, substance, gravity, and time\n",
        "    \"\"\"\n",
        "    input_length = len(input)\n",
        "    output_length = len(output[0])\n",
        "\n",
        "    input_stacked = np.tile(input, output_length).reshape(-1, 1)\n",
        "\n",
        "    categorical_inputs = [self.organism, self.substance, self.gravity]\n",
        "    categorical_inputs_stacked = np.tile(categorical_inputs, input_length * output_length).reshape(-1, len(categorical_inputs))\n",
        "\n",
        "    return np.hstack((categorical_inputs_stacked, input_stacked)).astype(float)"
      ]
    },
    {
      "cell_type": "code",
      "execution_count": 73,
      "metadata": {
        "colab": {
          "base_uri": "https://localhost:8080/"
        },
        "id": "oH93hsLsii0P",
        "outputId": "b0aac762-8c64-4234-b397-cb957f0c4c8c"
      },
      "outputs": [
        {
          "name": "stderr",
          "output_type": "stream",
          "text": [
            "C:\\Users\\ipjos\\AppData\\Local\\Temp\\ipykernel_10704\\1938128695.py:22: FutureWarning: Downcasting object dtype arrays on .fillna, .ffill, .bfill is deprecated and will change in a future version. Call result.infer_objects(copy=False) instead. To opt-in to the future behavior, set `pd.set_option('future.no_silent_downcasting', True)`\n",
            "  growth_df_transpose.fillna(growth_df_transpose.mean(), inplace = True)\n",
            "C:\\Users\\ipjos\\AppData\\Local\\Temp\\ipykernel_10704\\1938128695.py:22: FutureWarning: Downcasting object dtype arrays on .fillna, .ffill, .bfill is deprecated and will change in a future version. Call result.infer_objects(copy=False) instead. To opt-in to the future behavior, set `pd.set_option('future.no_silent_downcasting', True)`\n",
            "  growth_df_transpose.fillna(growth_df_transpose.mean(), inplace = True)\n",
            "C:\\Users\\ipjos\\AppData\\Local\\Temp\\ipykernel_10704\\1938128695.py:22: FutureWarning: Downcasting object dtype arrays on .fillna, .ffill, .bfill is deprecated and will change in a future version. Call result.infer_objects(copy=False) instead. To opt-in to the future behavior, set `pd.set_option('future.no_silent_downcasting', True)`\n",
            "  growth_df_transpose.fillna(growth_df_transpose.mean(), inplace = True)\n",
            "C:\\Users\\ipjos\\AppData\\Local\\Temp\\ipykernel_10704\\1938128695.py:22: FutureWarning: Downcasting object dtype arrays on .fillna, .ffill, .bfill is deprecated and will change in a future version. Call result.infer_objects(copy=False) instead. To opt-in to the future behavior, set `pd.set_option('future.no_silent_downcasting', True)`\n",
            "  growth_df_transpose.fillna(growth_df_transpose.mean(), inplace = True)\n",
            "C:\\Users\\ipjos\\AppData\\Local\\Temp\\ipykernel_10704\\1938128695.py:22: FutureWarning: Downcasting object dtype arrays on .fillna, .ffill, .bfill is deprecated and will change in a future version. Call result.infer_objects(copy=False) instead. To opt-in to the future behavior, set `pd.set_option('future.no_silent_downcasting', True)`\n",
            "  growth_df_transpose.fillna(growth_df_transpose.mean(), inplace = True)\n",
            "C:\\Users\\ipjos\\AppData\\Local\\Temp\\ipykernel_10704\\1938128695.py:22: FutureWarning: Downcasting object dtype arrays on .fillna, .ffill, .bfill is deprecated and will change in a future version. Call result.infer_objects(copy=False) instead. To opt-in to the future behavior, set `pd.set_option('future.no_silent_downcasting', True)`\n",
            "  growth_df_transpose.fillna(growth_df_transpose.mean(), inplace = True)\n",
            "C:\\Users\\ipjos\\AppData\\Local\\Temp\\ipykernel_10704\\1938128695.py:22: FutureWarning: Downcasting object dtype arrays on .fillna, .ffill, .bfill is deprecated and will change in a future version. Call result.infer_objects(copy=False) instead. To opt-in to the future behavior, set `pd.set_option('future.no_silent_downcasting', True)`\n",
            "  growth_df_transpose.fillna(growth_df_transpose.mean(), inplace = True)\n",
            "C:\\Users\\ipjos\\AppData\\Local\\Temp\\ipykernel_10704\\1938128695.py:22: FutureWarning: Downcasting object dtype arrays on .fillna, .ffill, .bfill is deprecated and will change in a future version. Call result.infer_objects(copy=False) instead. To opt-in to the future behavior, set `pd.set_option('future.no_silent_downcasting', True)`\n",
            "  growth_df_transpose.fillna(growth_df_transpose.mean(), inplace = True)\n",
            "C:\\Users\\ipjos\\AppData\\Local\\Temp\\ipykernel_10704\\1938128695.py:22: FutureWarning: Downcasting object dtype arrays on .fillna, .ffill, .bfill is deprecated and will change in a future version. Call result.infer_objects(copy=False) instead. To opt-in to the future behavior, set `pd.set_option('future.no_silent_downcasting', True)`\n",
            "  growth_df_transpose.fillna(growth_df_transpose.mean(), inplace = True)\n",
            "C:\\Users\\ipjos\\AppData\\Local\\Temp\\ipykernel_10704\\1938128695.py:22: FutureWarning: Downcasting object dtype arrays on .fillna, .ffill, .bfill is deprecated and will change in a future version. Call result.infer_objects(copy=False) instead. To opt-in to the future behavior, set `pd.set_option('future.no_silent_downcasting', True)`\n",
            "  growth_df_transpose.fillna(growth_df_transpose.mean(), inplace = True)\n",
            "C:\\Users\\ipjos\\AppData\\Local\\Temp\\ipykernel_10704\\1938128695.py:22: FutureWarning: Downcasting object dtype arrays on .fillna, .ffill, .bfill is deprecated and will change in a future version. Call result.infer_objects(copy=False) instead. To opt-in to the future behavior, set `pd.set_option('future.no_silent_downcasting', True)`\n",
            "  growth_df_transpose.fillna(growth_df_transpose.mean(), inplace = True)\n",
            "C:\\Users\\ipjos\\AppData\\Local\\Temp\\ipykernel_10704\\1938128695.py:22: FutureWarning: Downcasting object dtype arrays on .fillna, .ffill, .bfill is deprecated and will change in a future version. Call result.infer_objects(copy=False) instead. To opt-in to the future behavior, set `pd.set_option('future.no_silent_downcasting', True)`\n",
            "  growth_df_transpose.fillna(growth_df_transpose.mean(), inplace = True)\n",
            "C:\\Users\\ipjos\\AppData\\Local\\Temp\\ipykernel_10704\\1938128695.py:22: FutureWarning: Downcasting object dtype arrays on .fillna, .ffill, .bfill is deprecated and will change in a future version. Call result.infer_objects(copy=False) instead. To opt-in to the future behavior, set `pd.set_option('future.no_silent_downcasting', True)`\n",
            "  growth_df_transpose.fillna(growth_df_transpose.mean(), inplace = True)\n",
            "C:\\Users\\ipjos\\AppData\\Local\\Temp\\ipykernel_10704\\1938128695.py:22: FutureWarning: Downcasting object dtype arrays on .fillna, .ffill, .bfill is deprecated and will change in a future version. Call result.infer_objects(copy=False) instead. To opt-in to the future behavior, set `pd.set_option('future.no_silent_downcasting', True)`\n",
            "  growth_df_transpose.fillna(growth_df_transpose.mean(), inplace = True)\n",
            "C:\\Users\\ipjos\\AppData\\Local\\Temp\\ipykernel_10704\\1938128695.py:22: FutureWarning: Downcasting object dtype arrays on .fillna, .ffill, .bfill is deprecated and will change in a future version. Call result.infer_objects(copy=False) instead. To opt-in to the future behavior, set `pd.set_option('future.no_silent_downcasting', True)`\n",
            "  growth_df_transpose.fillna(growth_df_transpose.mean(), inplace = True)\n",
            "C:\\Users\\ipjos\\AppData\\Local\\Temp\\ipykernel_10704\\1938128695.py:22: FutureWarning: Downcasting object dtype arrays on .fillna, .ffill, .bfill is deprecated and will change in a future version. Call result.infer_objects(copy=False) instead. To opt-in to the future behavior, set `pd.set_option('future.no_silent_downcasting', True)`\n",
            "  growth_df_transpose.fillna(growth_df_transpose.mean(), inplace = True)\n",
            "C:\\Users\\ipjos\\AppData\\Local\\Temp\\ipykernel_10704\\1938128695.py:22: FutureWarning: Downcasting object dtype arrays on .fillna, .ffill, .bfill is deprecated and will change in a future version. Call result.infer_objects(copy=False) instead. To opt-in to the future behavior, set `pd.set_option('future.no_silent_downcasting', True)`\n",
            "  growth_df_transpose.fillna(growth_df_transpose.mean(), inplace = True)\n",
            "C:\\Users\\ipjos\\AppData\\Local\\Temp\\ipykernel_10704\\1938128695.py:22: FutureWarning: Downcasting object dtype arrays on .fillna, .ffill, .bfill is deprecated and will change in a future version. Call result.infer_objects(copy=False) instead. To opt-in to the future behavior, set `pd.set_option('future.no_silent_downcasting', True)`\n",
            "  growth_df_transpose.fillna(growth_df_transpose.mean(), inplace = True)\n",
            "C:\\Users\\ipjos\\AppData\\Local\\Temp\\ipykernel_10704\\1938128695.py:22: FutureWarning: Downcasting object dtype arrays on .fillna, .ffill, .bfill is deprecated and will change in a future version. Call result.infer_objects(copy=False) instead. To opt-in to the future behavior, set `pd.set_option('future.no_silent_downcasting', True)`\n",
            "  growth_df_transpose.fillna(growth_df_transpose.mean(), inplace = True)\n",
            "C:\\Users\\ipjos\\AppData\\Local\\Temp\\ipykernel_10704\\1938128695.py:22: FutureWarning: Downcasting object dtype arrays on .fillna, .ffill, .bfill is deprecated and will change in a future version. Call result.infer_objects(copy=False) instead. To opt-in to the future behavior, set `pd.set_option('future.no_silent_downcasting', True)`\n",
            "  growth_df_transpose.fillna(growth_df_transpose.mean(), inplace = True)\n",
            "C:\\Users\\ipjos\\AppData\\Local\\Temp\\ipykernel_10704\\1938128695.py:22: FutureWarning: Downcasting object dtype arrays on .fillna, .ffill, .bfill is deprecated and will change in a future version. Call result.infer_objects(copy=False) instead. To opt-in to the future behavior, set `pd.set_option('future.no_silent_downcasting', True)`\n",
            "  growth_df_transpose.fillna(growth_df_transpose.mean(), inplace = True)\n",
            "C:\\Users\\ipjos\\AppData\\Local\\Temp\\ipykernel_10704\\1938128695.py:22: FutureWarning: Downcasting object dtype arrays on .fillna, .ffill, .bfill is deprecated and will change in a future version. Call result.infer_objects(copy=False) instead. To opt-in to the future behavior, set `pd.set_option('future.no_silent_downcasting', True)`\n",
            "  growth_df_transpose.fillna(growth_df_transpose.mean(), inplace = True)\n",
            "C:\\Users\\ipjos\\AppData\\Local\\Temp\\ipykernel_10704\\1938128695.py:22: FutureWarning: Downcasting object dtype arrays on .fillna, .ffill, .bfill is deprecated and will change in a future version. Call result.infer_objects(copy=False) instead. To opt-in to the future behavior, set `pd.set_option('future.no_silent_downcasting', True)`\n",
            "  growth_df_transpose.fillna(growth_df_transpose.mean(), inplace = True)\n",
            "C:\\Users\\ipjos\\AppData\\Local\\Temp\\ipykernel_10704\\1938128695.py:22: FutureWarning: Downcasting object dtype arrays on .fillna, .ffill, .bfill is deprecated and will change in a future version. Call result.infer_objects(copy=False) instead. To opt-in to the future behavior, set `pd.set_option('future.no_silent_downcasting', True)`\n",
            "  growth_df_transpose.fillna(growth_df_transpose.mean(), inplace = True)\n",
            "C:\\Users\\ipjos\\AppData\\Local\\Temp\\ipykernel_10704\\1938128695.py:22: FutureWarning: Downcasting object dtype arrays on .fillna, .ffill, .bfill is deprecated and will change in a future version. Call result.infer_objects(copy=False) instead. To opt-in to the future behavior, set `pd.set_option('future.no_silent_downcasting', True)`\n",
            "  growth_df_transpose.fillna(growth_df_transpose.mean(), inplace = True)\n",
            "C:\\Users\\ipjos\\AppData\\Local\\Temp\\ipykernel_10704\\1938128695.py:22: FutureWarning: Downcasting object dtype arrays on .fillna, .ffill, .bfill is deprecated and will change in a future version. Call result.infer_objects(copy=False) instead. To opt-in to the future behavior, set `pd.set_option('future.no_silent_downcasting', True)`\n",
            "  growth_df_transpose.fillna(growth_df_transpose.mean(), inplace = True)\n",
            "C:\\Users\\ipjos\\AppData\\Local\\Temp\\ipykernel_10704\\1938128695.py:22: FutureWarning: Downcasting object dtype arrays on .fillna, .ffill, .bfill is deprecated and will change in a future version. Call result.infer_objects(copy=False) instead. To opt-in to the future behavior, set `pd.set_option('future.no_silent_downcasting', True)`\n",
            "  growth_df_transpose.fillna(growth_df_transpose.mean(), inplace = True)\n",
            "C:\\Users\\ipjos\\AppData\\Local\\Temp\\ipykernel_10704\\1938128695.py:22: FutureWarning: Downcasting object dtype arrays on .fillna, .ffill, .bfill is deprecated and will change in a future version. Call result.infer_objects(copy=False) instead. To opt-in to the future behavior, set `pd.set_option('future.no_silent_downcasting', True)`\n",
            "  growth_df_transpose.fillna(growth_df_transpose.mean(), inplace = True)\n",
            "C:\\Users\\ipjos\\AppData\\Local\\Temp\\ipykernel_10704\\1938128695.py:22: FutureWarning: Downcasting object dtype arrays on .fillna, .ffill, .bfill is deprecated and will change in a future version. Call result.infer_objects(copy=False) instead. To opt-in to the future behavior, set `pd.set_option('future.no_silent_downcasting', True)`\n",
            "  growth_df_transpose.fillna(growth_df_transpose.mean(), inplace = True)\n",
            "C:\\Users\\ipjos\\AppData\\Local\\Temp\\ipykernel_10704\\1938128695.py:22: FutureWarning: Downcasting object dtype arrays on .fillna, .ffill, .bfill is deprecated and will change in a future version. Call result.infer_objects(copy=False) instead. To opt-in to the future behavior, set `pd.set_option('future.no_silent_downcasting', True)`\n",
            "  growth_df_transpose.fillna(growth_df_transpose.mean(), inplace = True)\n",
            "C:\\Users\\ipjos\\AppData\\Local\\Temp\\ipykernel_10704\\1938128695.py:22: FutureWarning: Downcasting object dtype arrays on .fillna, .ffill, .bfill is deprecated and will change in a future version. Call result.infer_objects(copy=False) instead. To opt-in to the future behavior, set `pd.set_option('future.no_silent_downcasting', True)`\n",
            "  growth_df_transpose.fillna(growth_df_transpose.mean(), inplace = True)\n",
            "C:\\Users\\ipjos\\AppData\\Local\\Temp\\ipykernel_10704\\1938128695.py:22: FutureWarning: Downcasting object dtype arrays on .fillna, .ffill, .bfill is deprecated and will change in a future version. Call result.infer_objects(copy=False) instead. To opt-in to the future behavior, set `pd.set_option('future.no_silent_downcasting', True)`\n",
            "  growth_df_transpose.fillna(growth_df_transpose.mean(), inplace = True)\n",
            "C:\\Users\\ipjos\\AppData\\Local\\Temp\\ipykernel_10704\\1938128695.py:22: FutureWarning: Downcasting object dtype arrays on .fillna, .ffill, .bfill is deprecated and will change in a future version. Call result.infer_objects(copy=False) instead. To opt-in to the future behavior, set `pd.set_option('future.no_silent_downcasting', True)`\n",
            "  growth_df_transpose.fillna(growth_df_transpose.mean(), inplace = True)\n",
            "C:\\Users\\ipjos\\AppData\\Local\\Temp\\ipykernel_10704\\1938128695.py:22: FutureWarning: Downcasting object dtype arrays on .fillna, .ffill, .bfill is deprecated and will change in a future version. Call result.infer_objects(copy=False) instead. To opt-in to the future behavior, set `pd.set_option('future.no_silent_downcasting', True)`\n",
            "  growth_df_transpose.fillna(growth_df_transpose.mean(), inplace = True)\n"
          ]
        }
      ],
      "source": [
        "for i, obj in enumerate(obj_list):\n",
        "  data_obj = Data(obj.file_name, organism_label[i], substance_label[i], gravity_label[i])\n",
        "  data_list.append(data_obj)"
      ]
    },
    {
      "cell_type": "code",
      "execution_count": 74,
      "metadata": {
        "id": "AwxaaDMRij2W"
      },
      "outputs": [],
      "source": [
        "growth_input = data_list[0].growth_input_np\n",
        "growth_output = data_list[0].growth_val_np\n",
        "\n",
        "for i in range(1, len(data_list)):\n",
        "  growth_input = np.vstack((growth_input, data_list[i].growth_input_np))\n",
        "  growth_output = np.vstack((growth_output, data_list[i].growth_val_np))"
      ]
    },
    {
      "cell_type": "code",
      "execution_count": 75,
      "metadata": {
        "id": "X_2TOp1BinOt"
      },
      "outputs": [],
      "source": [
        "growth_time_input_mean = np.mean(growth_input[:, 3])\n",
        "growth_time_input_std_dev = np.std(growth_input[:, 3])\n",
        "growth_input[:,3] = (growth_input[:, 3] - growth_time_input_mean)/growth_time_input_std_dev"
      ]
    },
    {
      "cell_type": "code",
      "execution_count": 76,
      "metadata": {
        "id": "Wh-q3TGVioYL"
      },
      "outputs": [],
      "source": [
        "#80% train, 10% validation, 10% test\n",
        "growth_input_train, growth_input_test_val, growth_output_train, growth_output_test_val = train_test_split(growth_input, growth_output, test_size = 0.2, random_state = 42)\n",
        "growth_input_val, growth_input_test, growth_output_val, growth_output_test = train_test_split(growth_input_test_val, growth_output_test_val, test_size = 0.5, random_state = 42)"
      ]
    },
    {
      "cell_type": "code",
      "execution_count": 77,
      "metadata": {
        "id": "1N-rYY5hipZQ"
      },
      "outputs": [],
      "source": [
        "growth_input_train_tensor = torch.tensor(growth_input_train, device=device)\n",
        "growth_input_test_tensor = torch.tensor(growth_input_test,device=device)\n",
        "growth_output_train_tensor = torch.tensor(growth_output_train,device=device)\n",
        "growth_output_test_tensor = torch.tensor(growth_output_test,device=device)\n",
        "growth_input_val_tensor = torch.tensor(growth_input_val, device=device)\n",
        "growth_output_val_tensor = torch.tensor(growth_output_val, device=device)"
      ]
    },
    {
      "cell_type": "code",
      "execution_count": 78,
      "metadata": {
        "id": "9A4dCIyNmB6t"
      },
      "outputs": [],
      "source": [
        "train_data = DataLoader(TensorDataset(torch.tensor(growth_input_train, dtype = torch.float32), torch.tensor(growth_output_train, dtype = torch.float32)))\n",
        "test_data = DataLoader(TensorDataset(torch.tensor(growth_input_test, dtype = torch.float32), torch.tensor(growth_output_test, dtype = torch.float32)))\n",
        "val_data = DataLoader(TensorDataset(torch.tensor(growth_input_val, dtype = torch.float32), torch.tensor(growth_output_val, dtype = torch.float32)))"
      ]
    },
    {
      "cell_type": "markdown",
      "metadata": {},
      "source": [
        "# Model"
      ]
    },
    {
      "cell_type": "code",
      "execution_count": 79,
      "metadata": {
        "id": "q0a72QlEkwnT"
      },
      "outputs": [],
      "source": [
        "\"\"\"Make the PNN model.\"\"\"\n",
        "pnn = PNN(\n",
        "    input_dim=4,\n",
        "    output_dim=1,\n",
        "    encoder_hidden_sizes=[50, 50, 50, 50, 50],\n",
        "    encoder_output_dim=50,\n",
        "    mean_hidden_sizes=[],\n",
        "    logvar_hidden_sizes=[],\n",
        "    hidden_activation = F.relu,\n",
        "    learning_rate = 1e-3,\n",
        ")"
      ]
    },
    {
      "cell_type": "code",
      "execution_count": 80,
      "metadata": {
        "id": "Gi17k5Y8mDl2"
      },
      "outputs": [],
      "source": [
        "model_path = './models/growth'\n",
        "if not model_path:\n",
        "  \"\"\"Train the model with a pytorch-lightning trainer.\"\"\"\n",
        "  trainer = pl.Trainer(max_epochs=100, check_val_every_n_epoch=50)\n",
        "  trainer.fit(pnn, train_data, val_data)\n",
        "  # Get the test output.\n",
        "  test_results = trainer.test(pnn, test_data)\n",
        "  #model_path = '/content/drive'\n",
        "  timestamp = datetime.now()\n",
        "  time_path = f\"_{timestamp.strftime('%m-%d_%H-%M-%S')}.pth\"\n",
        "  torch.save(pnn.state_dict(), model_path + time_path)\n",
        "else:\n",
        "  #load the model\n",
        "  time_path = \".pth\"\n",
        "  pnn.load_state_dict(torch.load(model_path + time_path))"
      ]
    },
    {
      "cell_type": "markdown",
      "metadata": {},
      "source": [
        "# Flight"
      ]
    },
    {
      "cell_type": "code",
      "execution_count": 81,
      "metadata": {
        "id": "voeFIduS2IP2"
      },
      "outputs": [],
      "source": [
        "organism_1A_list = []\n",
        "substance_1A_list = []\n",
        "gravity_1A_list = []\n",
        "obj_1A_list = []"
      ]
    },
    {
      "cell_type": "code",
      "execution_count": 82,
      "metadata": {
        "id": "jIn8SHNbKdlC"
      },
      "outputs": [],
      "source": [
        "class Preprocess_flight:\n",
        "  def __init__(self, file_name):\n",
        "    self.file_name = file_name\n",
        "    self.organism, self.substance, self.gravity, self.flight = self.file_name.split(\".\")[0].split()[0].split(\"_\")\n",
        "    self.update_list(organism_1A_list, self.organism)\n",
        "    self.update_list(substance_1A_list, self.substance)\n",
        "    self.update_list(gravity_1A_list, self.gravity)\n",
        "\n",
        "  def update_list(self, item_list, item):\n",
        "    #if item not in item_list:\n",
        "    item_list.append(item)"
      ]
    },
    {
      "cell_type": "code",
      "execution_count": 83,
      "metadata": {
        "id": "0RXB4O_q7DZT"
      },
      "outputs": [],
      "source": [
        "for file_name in uploaded_1A.keys():\n",
        "  obj = Preprocess_flight(file_name)\n",
        "  obj_1A_list.append(obj)"
      ]
    },
    {
      "cell_type": "code",
      "execution_count": 84,
      "metadata": {
        "id": "WmXaTYEH_qsl"
      },
      "outputs": [],
      "source": [
        "def locate_label(var, var_list, var_encode_list):\n",
        "  index = var_list.index(var)\n",
        "  return var_encode_list[index]"
      ]
    },
    {
      "cell_type": "code",
      "execution_count": 86,
      "metadata": {
        "colab": {
          "base_uri": "https://localhost:8080/",
          "height": 1000
        },
        "id": "CUVdlCJD8Hbe",
        "outputId": "d2c04ead-963a-4650-8f95-6dbdc60291b9"
      },
      "outputs": [
        {
          "name": "stderr",
          "output_type": "stream",
          "text": [
            "C:\\Users\\ipjos\\AppData\\Local\\Temp\\ipykernel_10704\\1938128695.py:22: FutureWarning: Downcasting object dtype arrays on .fillna, .ffill, .bfill is deprecated and will change in a future version. Call result.infer_objects(copy=False) instead. To opt-in to the future behavior, set `pd.set_option('future.no_silent_downcasting', True)`\n",
            "  growth_df_transpose.fillna(growth_df_transpose.mean(), inplace = True)\n"
          ]
        },
        {
          "data": {
            "image/png": "[encoded data removed]",
            "text/plain": [
              "<Figure size 840x600 with 1 Axes>"
            ]
          },
          "metadata": {},
          "output_type": "display_data"
        }
      ],
      "source": [
        "data_1A_list = []\n",
        "\n",
        "for i, obj in enumerate(obj_1A_list):\n",
        "  organism_locate_label = locate_label(obj.organism, organism_list, organism_label)\n",
        "  substance_locate_label = locate_label(obj.substance, substance_list, substance_label)\n",
        "  gravity_locate_label = locate_label(obj.gravity, gravity_list, gravity_label)\n",
        "\n",
        "  #use the combination of labels to locate the correct obj_list item\n",
        "  data_obj = Data(obj.file_name, organism_locate_label, substance_locate_label, gravity_locate_label, flight = True)\n",
        "  data_1A_list.append(data_obj)\n",
        "\n",
        "  #combine into categorical inputs\n",
        "  categorical_inputs = [organism_locate_label, substance_locate_label, gravity_locate_label]\n",
        "  categorical_inputs_transformed = torch.tensor([categorical_inputs]).squeeze()\n",
        "\n",
        "  #replace time_linspace_tensor, define this as the list of time elements\n",
        "  time_tensor = torch.tensor(data_obj.growth_input_np[:,3], dtype = torch.float32)\n",
        "  categorical_inputs_transformed_stacked = torch.Tensor.repeat(categorical_inputs_transformed, len(time_tensor)).reshape(-1, len(categorical_inputs))\n",
        "\n",
        "  input_unstandardized = torch.hstack((categorical_inputs_transformed_stacked, time_tensor.reshape(-1, 1)))\n",
        "  input_unstandardized[:,3] = (input_unstandardized[:,3] - growth_time_input_mean) / growth_time_input_std_dev\n",
        "\n",
        "  input_standardized = input_unstandardized\n",
        "  predicted_output_mean, predicted_output_std = pnn.get_mean_and_standard_deviation(input_standardized.numpy())\n",
        "  time_tensor = time_tensor.numpy().flatten()\n",
        "  predicted_output_mean = predicted_output_mean.flatten()\n",
        "  predicted_output_std = predicted_output_std.flatten()\n",
        "\n",
        "  # plt.title(f\"{organism_encode.inverse_transform([data_obj.organism])[0]} {substance_encode.inverse_transform([data_obj.substance])[0]} {gravity_encode.inverse_transform([data_obj.gravity])[0]} Growth with 95% Confidence Interval\")\n",
        "\n",
        "  plt.title(\"Y. lipolytica Spaceflight Growth Prediction Before Transfer Learning\")\n",
        "\n",
        "  plt.fill_between(\n",
        "    time_tensor,\n",
        "    predicted_output_mean - 3 * predicted_output_std,\n",
        "    predicted_output_mean + 3 * predicted_output_std,\n",
        "    color = 'red',\n",
        "    label=f\"{gravity_encode.inverse_transform([data_1A_list[i].gravity])[0]} Prediction\"\n",
        "  )\n",
        "\n",
        "  plt.scatter(\n",
        "    time_tensor,\n",
        "    data_obj.growth_val_np,\n",
        "    label = \"Flight 1A data\"\n",
        "  )\n",
        "\n",
        "  plt.xlabel(\"Time [hours]\")\n",
        "  plt.ylabel(\"Growth [OD600]\")\n",
        "  plt.show()"
      ]
    }
  ],
  "metadata": {
    "colab": {
      "provenance": []
    },
    "kernelspec": {
      "display_name": "darpa",
      "language": "python",
      "name": "python3"
    },
    "language_info": {
      "codemirror_mode": {
        "name": "ipython",
        "version": 3
      },
      "file_extension": ".py",
      "mimetype": "text/x-python",
      "name": "python",
      "nbconvert_exporter": "python",
      "pygments_lexer": "ipython3",
      "version": "3.11.13"
    }
  },
  "nbformat": 4,
  "nbformat_minor": 0
}
