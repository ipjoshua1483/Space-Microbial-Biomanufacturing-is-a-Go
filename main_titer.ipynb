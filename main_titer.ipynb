{
  "cells": [
    {
      "cell_type": "markdown",
      "metadata": {},
      "source": [
        "# Imports"
      ]
    },
    {
      "cell_type": "code",
      "execution_count": 222,
      "metadata": {},
      "outputs": [],
      "source": [
        "from pathlib import Path\n",
        "from datetime import datetime\n",
        "from typing import Callable, Optional, Sequence, Tuple\n",
        "import torch\n",
        "from torch import Tensor\n",
        "import torch.nn.functional as F\n",
        "from torch.utils.data import DataLoader, TensorDataset\n",
        "import numpy as np\n",
        "import pandas as pd\n",
        "from sklearn.preprocessing import LabelEncoder\n",
        "from sklearn.model_selection import train_test_split\n",
        "import uncertainty_toolbox as uct\n",
        "import matplotlib.pyplot as plt\n",
        "import pytorch_lightning as pl\n",
        "from pytorch_lightning import LightningModule\n",
        "from simple_uq.models.pnn import PNN"
      ]
    },
    {
      "cell_type": "markdown",
      "metadata": {},
      "source": [
        "# Uploads"
      ]
    },
    {
      "cell_type": "code",
      "execution_count": 223,
      "metadata": {},
      "outputs": [],
      "source": [
        "prefix = \"./data/earth\"\n",
        "prefix_1A = \"./data/flight/titer\"\n",
        "uploaded = {p.name: p for p in Path(prefix).glob(\"*.xlsx\") if not p.name.startswith(\"~$\")}\n",
        "uploaded_1A = {p.name: p for p in Path(prefix_1A).glob(\"*.xlsx\") if not p.name.startswith(\"~$\")}"
      ]
    },
    {
      "cell_type": "markdown",
      "metadata": {},
      "source": [
        "# Settings"
      ]
    },
    {
      "cell_type": "code",
      "execution_count": 224,
      "metadata": {
        "id": "X20U_lj3ibK3"
      },
      "outputs": [],
      "source": [
        "\n",
        "device = (\n",
        "    \"cuda\"\n",
        "    if torch.cuda.is_available()\n",
        "    else \"mps\"\n",
        "    if torch.backends.mps.is_available()\n",
        "    else \"cpu\"\n",
        ")"
      ]
    },
    {
      "cell_type": "code",
      "execution_count": 225,
      "metadata": {},
      "outputs": [],
      "source": [
        "plt.rcParams.update({\n",
        "    'axes.labelsize': 14,\n",
        "    'axes.labelweight': 'bold',\n",
        "    'xtick.labelsize': 12,\n",
        "    'ytick.labelsize': 12,\n",
        "    'xtick.color': 'k',\n",
        "    'ytick.color': 'k',\n",
        "    'xtick.major.width': 1.5,\n",
        "    'ytick.major.width': 1.5,\n",
        "})\n",
        "plt.rcParams['figure.figsize'] = (7, 5)\n",
        "plt.rcParams['figure.dpi'] = 120"
      ]
    },
    {
      "cell_type": "markdown",
      "metadata": {},
      "source": [
        "# Preprocessing"
      ]
    },
    {
      "cell_type": "code",
      "execution_count": 226,
      "metadata": {
        "id": "hzkJirshidh2"
      },
      "outputs": [],
      "source": [
        "organism_list = []\n",
        "substance_list = []\n",
        "gravity_list = []\n",
        "obj_list = []\n",
        "\n",
        "class Preprocess:\n",
        "  def __init__(self, file_name):\n",
        "    self.file_name = file_name\n",
        "    self.organism, self.substance, self.gravity = self.file_name.split(\".\")[0].split()[0].split(\"_\")\n",
        "    self.update_list(organism_list, self.organism)\n",
        "    self.update_list(substance_list, self.substance)\n",
        "    self.update_list(gravity_list, self.gravity)\n",
        "\n",
        "  def update_list(self, item_list, item):\n",
        "    #if item not in item_list:\n",
        "    item_list.append(item)"
      ]
    },
    {
      "cell_type": "code",
      "execution_count": 227,
      "metadata": {
        "id": "pV3gKndxiez3"
      },
      "outputs": [],
      "source": [
        "for file_name in uploaded:\n",
        "  obj = Preprocess(file_name)\n",
        "  obj_list.append(obj)"
      ]
    },
    {
      "cell_type": "code",
      "execution_count": 228,
      "metadata": {
        "id": "-5ONy8cLifzO"
      },
      "outputs": [],
      "source": [
        "organism_encode = LabelEncoder()\n",
        "substance_encode = LabelEncoder()\n",
        "gravity_encode = LabelEncoder()\n",
        "\n",
        "organism_label = organism_encode.fit_transform(organism_list)\n",
        "substance_label = substance_encode.fit_transform(substance_list)\n",
        "gravity_label = gravity_encode.fit_transform(gravity_list)"
      ]
    },
    {
      "cell_type": "code",
      "execution_count": 229,
      "metadata": {
        "id": "NBvl9LKPihic"
      },
      "outputs": [],
      "source": [
        "data_list = []\n",
        "class Data:\n",
        "  def __init__(self,file_name, organism, substance, gravity, flight = False):\n",
        "    self.file_name = file_name\n",
        "    self.organism = organism\n",
        "    self.substance = substance\n",
        "    self.gravity = gravity\n",
        "    self.flight = flight\n",
        "    self.titer_time, self.titer_val = self.assign_data()\n",
        "    self.titer_input_np = []\n",
        "    self.titer_val_np = []\n",
        "\n",
        "    if len(self.titer_time) != 0:\n",
        "      self.titer_input_np = self.create_inputs(self.titer_time, self.titer_val)\n",
        "    if len(self.titer_val) != 0:\n",
        "      self.titer_val_np = self.titer_val.reshape(-1, 1)\n",
        "\n",
        "  def assign_data(self):\n",
        "    titer_time = []\n",
        "    titer_val = []\n",
        "\n",
        "    if substance_encode.inverse_transform([self.substance])[0] != \"Wild\":\n",
        "      # titer_df = pd.read_excel(self.file_name, sheet_name = 1).iloc[1:]\n",
        "      if self.flight:\n",
        "        titer_df = pd.read_excel(f\"{prefix_1A}/{self.file_name}\", sheet_name = 1).iloc[1:]\n",
        "      else:\n",
        "        titer_df = pd.read_excel(f\"{prefix}/{self.file_name}\", sheet_name = 1).iloc[1:]\n",
        "      titer_time = titer_df.iloc[:,:1].to_numpy()\n",
        "      titer_df_transpose = titer_df.iloc[:,1:].T\n",
        "      titer_df_transpose.fillna(titer_df_transpose.mean(), inplace=True)\n",
        "      titer_val = titer_df_transpose.T.to_numpy()\n",
        "    return titer_time, titer_val\n",
        "\n",
        "  def create_inputs(self, input, output):\n",
        "    \"\"\"\n",
        "    Returns inputs in order of organism, substance, gravity, and time\n",
        "    \"\"\"\n",
        "    input_length = len(input)\n",
        "    output_length = len(output[0])\n",
        "\n",
        "    input_stacked = np.tile(input, output_length).reshape(-1, 1)\n",
        "\n",
        "    categorical_inputs = [self.organism, self.substance, self.gravity]\n",
        "    categorical_inputs_stacked = np.tile(categorical_inputs, input_length * output_length).reshape(-1, len(categorical_inputs))\n",
        "\n",
        "    return np.hstack((categorical_inputs_stacked, input_stacked)).astype(float)"
      ]
    },
    {
      "cell_type": "code",
      "execution_count": null,
      "metadata": {
        "colab": {
          "base_uri": "https://localhost:8080/"
        },
        "id": "oH93hsLsii0P",
        "outputId": "d6dabc13-aa8d-4579-b30e-4399f02cd218"
      },
      "outputs": [],
      "source": [
        "for i, obj in enumerate(obj_list):\n",
        "  data_obj = Data(obj.file_name, organism_label[i], substance_label[i], gravity_label[i])\n",
        "  data_list.append(data_obj)"
      ]
    },
    {
      "cell_type": "code",
      "execution_count": 231,
      "metadata": {
        "id": "AwxaaDMRij2W"
      },
      "outputs": [],
      "source": [
        "titer_input = data_list[0].titer_input_np\n",
        "titer_output = data_list[0].titer_val_np\n",
        "\n",
        "for i in range(1, len(data_list)):\n",
        "  if len(data_list[i].titer_input_np) > 0:\n",
        "    titer_input = np.vstack((titer_input, data_list[i].titer_input_np))\n",
        "    titer_output = np.vstack((titer_output, data_list[i].titer_val_np))"
      ]
    },
    {
      "cell_type": "code",
      "execution_count": 232,
      "metadata": {
        "id": "X_2TOp1BinOt"
      },
      "outputs": [],
      "source": [
        "titer_time_input_mean = np.mean(titer_input[:, 3])\n",
        "titer_time_input_std_dev = np.std(titer_input[:, 3])\n",
        "titer_input[:,3] = (titer_input[:, 3] - titer_time_input_mean)/titer_time_input_std_dev\n",
        "titer_output = np.log(titer_output + 0.1)"
      ]
    },
    {
      "cell_type": "code",
      "execution_count": 233,
      "metadata": {
        "id": "Wh-q3TGVioYL"
      },
      "outputs": [],
      "source": [
        "#80% train, 10% validation, 10% test\n",
        "titer_input_train, titer_input_test_val, titer_output_train, titer_output_test_val = train_test_split(titer_input, titer_output, test_size = 0.2, random_state = 42)\n",
        "titer_input_val, titer_input_test, titer_output_val, titer_output_test = train_test_split(titer_input_test_val, titer_output_test_val, test_size = 0.5, random_state = 42)"
      ]
    },
    {
      "cell_type": "code",
      "execution_count": 234,
      "metadata": {
        "id": "1N-rYY5hipZQ"
      },
      "outputs": [],
      "source": [
        "titer_input_train_tensor = torch.tensor(titer_input_train, device=device)\n",
        "titer_input_test_tensor = torch.tensor(titer_input_test,device=device)\n",
        "titer_output_train_tensor = torch.tensor(titer_output_train,device=device)\n",
        "titer_output_test_tensor = torch.tensor(titer_output_test,device=device)\n",
        "titer_input_val_tensor = torch.tensor(titer_input_val, device=device)\n",
        "titer_output_val_tensor = torch.tensor(titer_output_val, device=device)"
      ]
    },
    {
      "cell_type": "code",
      "execution_count": 235,
      "metadata": {
        "id": "9A4dCIyNmB6t"
      },
      "outputs": [],
      "source": [
        "train_data = DataLoader(TensorDataset(torch.tensor(titer_input_train, dtype = torch.float32), torch.tensor(titer_output_train, dtype = torch.float32)))\n",
        "test_data = DataLoader(TensorDataset(torch.tensor(titer_input_test, dtype = torch.float32), torch.tensor(titer_output_test, dtype = torch.float32)))\n",
        "val_data = DataLoader(TensorDataset(torch.tensor(titer_input_val, dtype = torch.float32), torch.tensor(titer_output_val, dtype = torch.float32)))"
      ]
    },
    {
      "cell_type": "markdown",
      "metadata": {},
      "source": [
        "# Model"
      ]
    },
    {
      "cell_type": "code",
      "execution_count": 236,
      "metadata": {
        "id": "q0a72QlEkwnT"
      },
      "outputs": [],
      "source": [
        "\"\"\"Make the PNN model.\"\"\"\n",
        "pnn = PNN(\n",
        "    input_dim=4,\n",
        "    output_dim=1,\n",
        "    encoder_hidden_sizes=[50, 50, 50, 50, 50],\n",
        "    encoder_output_dim=50,\n",
        "    mean_hidden_sizes=[],\n",
        "    logvar_hidden_sizes=[],\n",
        "    hidden_activation = F.relu,\n",
        "    learning_rate = 1e-3,\n",
        ")"
      ]
    },
    {
      "cell_type": "code",
      "execution_count": 237,
      "metadata": {
        "id": "Gi17k5Y8mDl2"
      },
      "outputs": [],
      "source": [
        "model_path = './models/titer'\n",
        "\n",
        "if not model_path:\n",
        "  \"\"\"Train the model with a pytorch-lightning trainer.\"\"\"\n",
        "  trainer = pl.Trainer(max_epochs=100, check_val_every_n_epoch=50)\n",
        "  trainer.fit(pnn, train_data, val_data)\n",
        "  # Get the test output.\n",
        "  test_results = trainer.test(pnn, test_data)\n",
        "  #model_path = '/content/drive'\n",
        "  timestamp = datetime.now()\n",
        "  time_path = f\"_{timestamp.strftime('%m-%d_%H-%M-%S')}.pth\"\n",
        "  torch.save(pnn.state_dict(), model_path + time_path)\n",
        "else:\n",
        "  #load the model\n",
        "  time_path = \".pth\"\n",
        "  pnn.load_state_dict(torch.load(model_path + time_path))"
      ]
    },
    {
      "cell_type": "markdown",
      "metadata": {},
      "source": [
        "# Flight"
      ]
    },
    {
      "cell_type": "code",
      "execution_count": 238,
      "metadata": {
        "id": "voeFIduS2IP2"
      },
      "outputs": [],
      "source": [
        "organism_1A_list = []\n",
        "substance_1A_list = []\n",
        "gravity_1A_list = []\n",
        "obj_1A_list = []"
      ]
    },
    {
      "cell_type": "code",
      "execution_count": 239,
      "metadata": {
        "id": "jIn8SHNbKdlC"
      },
      "outputs": [],
      "source": [
        "class Preprocess_flight:\n",
        "  def __init__(self, file_name):\n",
        "    self.file_name = file_name\n",
        "    self.organism, self.substance, self.gravity, self.flight = self.file_name.split(\".\")[0].split()[0].split(\"_\")\n",
        "    self.update_list(organism_1A_list, self.organism)\n",
        "    self.update_list(substance_1A_list, self.substance)\n",
        "    self.update_list(gravity_1A_list, self.gravity)\n",
        "\n",
        "  def update_list(self, item_list, item):\n",
        "    #if item not in item_list:\n",
        "    item_list.append(item)"
      ]
    },
    {
      "cell_type": "code",
      "execution_count": 240,
      "metadata": {
        "id": "0RXB4O_q7DZT"
      },
      "outputs": [],
      "source": [
        "for file_name in uploaded_1A.keys():\n",
        "  obj = Preprocess_flight(file_name)\n",
        "  obj_1A_list.append(obj)"
      ]
    },
    {
      "cell_type": "code",
      "execution_count": 241,
      "metadata": {
        "id": "WmXaTYEH_qsl"
      },
      "outputs": [],
      "source": [
        "def locate_label(var, var_list, var_encode_list):\n",
        "  index = var_list.index(var)\n",
        "  return var_encode_list[index]"
      ]
    },
    {
      "cell_type": "code",
      "execution_count": 243,
      "metadata": {
        "colab": {
          "base_uri": "https://localhost:8080/",
          "height": 1000
        },
        "id": "CUVdlCJD8Hbe",
        "outputId": "46c2ae2a-ed35-44fa-ae6a-2961b09d766a"
      },
      "outputs": [
        {
          "name": "stderr",
          "output_type": "stream",
          "text": [
            "C:\\Users\\ipjos\\AppData\\Local\\Temp\\ipykernel_37200\\2482386220.py:30: FutureWarning: Downcasting object dtype arrays on .fillna, .ffill, .bfill is deprecated and will change in a future version. Call result.infer_objects(copy=False) instead. To opt-in to the future behavior, set `pd.set_option('future.no_silent_downcasting', True)`\n",
            "  titer_df_transpose.fillna(titer_df_transpose.mean(), inplace=True)\n"
          ]
        },
        {
          "data": {
            "image/png": "[encoded data removed]",
            "text/plain": [
              "<Figure size 840x600 with 1 Axes>"
            ]
          },
          "metadata": {},
          "output_type": "display_data"
        }
      ],
      "source": [
        "data_1A_list = []\n",
        "\n",
        "for i, obj in enumerate(obj_1A_list):\n",
        "  organism_locate_label = locate_label(obj.organism, organism_list, organism_label)\n",
        "  substance_locate_label = locate_label(obj.substance, substance_list, substance_label)\n",
        "  gravity_locate_label = locate_label(obj.gravity, gravity_list, gravity_label)\n",
        "\n",
        "  #use the combination of labels to locate the correct obj_list item\n",
        "  # print(obj.file_name)\n",
        "  # print(organism_locate_label, substance_locate_label, gravity_locate_label)\n",
        "  data_obj = Data(obj.file_name, organism_locate_label, substance_locate_label, gravity_locate_label, flight = True)\n",
        "  data_1A_list.append(data_obj)\n",
        "\n",
        "  #combine into categorical inputs\n",
        "  categorical_inputs = [organism_locate_label, substance_locate_label, gravity_locate_label]\n",
        "  categorical_inputs_transformed = torch.tensor([categorical_inputs]).squeeze()\n",
        "\n",
        "  #replace time_linspace_tensor, define this as the list of time elements\n",
        "  time_tensor = torch.tensor(data_obj.titer_input_np[:,3], dtype = torch.float32)\n",
        "  categorical_inputs_transformed_stacked = torch.Tensor.repeat(categorical_inputs_transformed, len(time_tensor)).reshape(-1, len(categorical_inputs))\n",
        "\n",
        "  input_unstandardized = torch.hstack((categorical_inputs_transformed_stacked, time_tensor.reshape(-1, 1)))\n",
        "  input_unstandardized[:,3] = (input_unstandardized[:,3] - titer_time_input_mean) / titer_time_input_std_dev\n",
        "\n",
        "  input_standardized = input_unstandardized\n",
        "  predicted_output_mean, predicted_output_std = pnn.get_mean_and_standard_deviation(input_standardized.numpy())\n",
        "\n",
        "  time_tensor = time_tensor.numpy().flatten()\n",
        "  predicted_output_mean = predicted_output_mean.flatten()\n",
        "  predicted_output_std = predicted_output_std.flatten()\n",
        "\n",
        "  # plt.title(f\"{organism_encode.inverse_transform([data_obj.organism])[0]} {substance_encode.inverse_transform([data_obj.substance])[0]} {gravity_encode.inverse_transform([data_obj.gravity])[0]} Titer with 95% Confidence Interval\")\n",
        "  plt.title(\"Y. lipolytica Spaceflight Titer Prediction Before Transfer Learning\")\n",
        "  mean = np.exp(predicted_output_mean) - 0.1\n",
        "  diff = np.exp(predicted_output_mean + 3 * predicted_output_std) - np.exp(predicted_output_mean)\n",
        "\n",
        "  plt.fill_between(time_tensor,\n",
        "                   # predicted_output_mean - 3 * predicted_output_std,\n",
        "                   # predicted_output_mean + 3 * predicted_output_std,\n",
        "                   # np.exp(predicted_output_mean) - 0.1,\n",
        "                   # np.exp(predicted_output_mean - 3 * predicted_output_std) - np.exp(predicted_output_mean),\n",
        "                   # np.exp(predicted_output_mean + 3 * predicted_output_std) - np.exp(predicted_output_mean),\n",
        "                   mean - diff,\n",
        "                   mean + diff,\n",
        "                   #alpha = 0.2,\n",
        "                   color = 'red',\n",
        "                   # label=f\"{gravity_encode.inverse_transform([data_1A_list[i].gravity])[0]} Prediction\"\n",
        "                   label = \"Model Prediction\",\n",
        "                   )\n",
        "\n",
        "  # plt.errorbar(time_tensor,\n",
        "  #              np.exp(predicted_output_mean) - 0.1,\n",
        "  #              np.exp(predicted_output_mean + 3 * predicted_output_std) - np.exp(predicted_output_mean),\n",
        "  #              marker = 'o',\n",
        "  #              color = 'red',\n",
        "  #              label = f\"{gravity_encode.inverse_transform([data_1A_list[i].gravity])[0]} Prediction\",)\n",
        "\n",
        "  plt.scatter(time_tensor,\n",
        "              data_obj.titer_val_np,\n",
        "              label = \"Flight 1 data\")\n",
        "  plt.xlabel(\"Time [hours]\")\n",
        "  plt.ylabel(\"Normalized Titer [mg/L/OD]\")\n",
        "  plt.legend()\n",
        "  plt.show()"
      ]
    }
  ],
  "metadata": {
    "colab": {
      "provenance": []
    },
    "kernelspec": {
      "display_name": "darpa",
      "language": "python",
      "name": "python3"
    },
    "language_info": {
      "codemirror_mode": {
        "name": "ipython",
        "version": 3
      },
      "file_extension": ".py",
      "mimetype": "text/x-python",
      "name": "python",
      "nbconvert_exporter": "python",
      "pygments_lexer": "ipython3",
      "version": "3.11.13"
    }
  },
  "nbformat": 4,
  "nbformat_minor": 0
}
